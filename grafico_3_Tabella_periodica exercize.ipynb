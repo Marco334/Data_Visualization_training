{
 "cells": [
  {
   "cell_type": "code",
   "execution_count": 12,
   "metadata": {},
   "outputs": [
    {
     "name": "stdout",
     "output_type": "stream",
     "text": [
      "START\n",
      "DONE\n"
     ]
    }
   ],
   "source": [
    "#Graficio stdi elementi tabella periodica \n",
    "#Importing libraries\n",
    "from bokeh.plotting import figure\n",
    "from bokeh.io import output_file, show\n",
    "from bokeh.sampledata.periodic_table import elements # importo tabella periodica degli elementi \n",
    "from bokeh.models import Range1d, PanTool, ResetTool, HoverTool, ColumnDataSource, LabelSet\n",
    "import pandas\n",
    " \n",
    "from bokeh.sampledata.periodic_table import elements \n",
    "print(\"START\")\n",
    "#Remove rows with NaN values and then map standard states to colors\n",
    "elements.dropna(inplace=True) #if inplace is not set to True the changes are not written to the dataframe\n",
    "colormap = {'gas':'white', 'liquid':'blue', 'solid':'gray'}\n",
    "elements['color'] = [colormap[x] for x in elements['standard state']]\n",
    "elements['size'] = elements[\"van der Waals radius\"] / 10\n",
    "\n",
    "#Create three ColumnDataSources for elements of unique standard states\n",
    "gas = ColumnDataSource(elements[elements['standard state']=='gas'])\n",
    "liquid = ColumnDataSource(elements[elements['standard state']=='liquid'])\n",
    "solid = ColumnDataSource(elements[elements['standard state']=='solid'])\n",
    " \n",
    "#Define the output file path\n",
    "output_file(\"elements.html\")\n",
    " \n",
    "#Create the figure object\n",
    "f = figure()\n",
    "f.background_fill_color =\"green\"\n",
    "f.background_fill_alpha =0.4\n",
    "f.border_fill_color     =\"green\"\n",
    "f.title.text            =\"ELEMENTI TABELLA PERIODICA \"\n",
    "f.title.text_color      =\"white\"\n",
    "f.axis.axis_label_text_color =\"white\"\n",
    "f.axis.major_label_text_color=\"white\"\n",
    "f.xgrid.grid_line_color=\"white\"\n",
    "f.ygrid.grid_line_color=\"white\"\n",
    "f.xgrid.grid_line_alpha=0.7\n",
    "f.ygrid.grid_line_alpha=0.7\n",
    "f.xgrid.grid_line_dash=[8,5] # tratteggiatura\n",
    "f.ygrid.grid_line_dash=[3,8] # tratteggiatura\n",
    "f.toolbar_location=\"above\"\n",
    "#adding glyphs\n",
    "f.circle(x=\"atomic radius\", y=\"boiling point\", size='size', fill_alpha=0.2, color=\"color\",\n",
    "         legend='Gas',source=gas)\n",
    " \n",
    "f.circle(x=\"atomic radius\", y=\"boiling point\", size='size', fill_alpha=0.2, color=\"color\",\n",
    "         legend='Liquid', source=liquid)\n",
    " \n",
    "f.circle(x=\"atomic radius\", y=\"boiling point\", size='size', fill_alpha=0.2, color=\"color\",\n",
    "         legend='Solid', source=solid)\n",
    " \n",
    "f.xaxis.axis_label=\"Atomic radius\"\n",
    "f.yaxis.axis_label=\"Boiling point\"\n",
    " \n",
    "#Save and show the figure\n",
    "show(f)\n",
    "print(\"DONE\")"
   ]
  },
  {
   "cell_type": "code",
   "execution_count": null,
   "metadata": {},
   "outputs": [],
   "source": []
  }
 ],
 "metadata": {
  "kernelspec": {
   "display_name": "Python 3",
   "language": "python",
   "name": "python3"
  },
  "language_info": {
   "codemirror_mode": {
    "name": "ipython",
    "version": 3
   },
   "file_extension": ".py",
   "mimetype": "text/x-python",
   "name": "python",
   "nbconvert_exporter": "python",
   "pygments_lexer": "ipython3",
   "version": "3.7.4"
  }
 },
 "nbformat": 4,
 "nbformat_minor": 2
}
